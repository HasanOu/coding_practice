{
 "cells": [
  {
   "cell_type": "code",
   "execution_count": 3,
   "id": "e891f16a",
   "metadata": {},
   "outputs": [
    {
     "name": "stdout",
     "output_type": "stream",
     "text": [
      "[1, 2]\n"
     ]
    }
   ],
   "source": [
    "\"\"\"Given an array of integers nums and an integer target, return indices of the\n",
    "two numbers such that they add up to target.\n",
    "\n",
    "You may assume that each input would have exactly one solution,\n",
    "and you may not use the same element twice.\n",
    "\n",
    "You can return the answer in any order.\n",
    "\n",
    "Input: nums = [2,7,11,15], target = 9\n",
    "Output: [0,1]\n",
    "Explanation: Because nums[0] + nums[1] == 9, we return [0, 1].\n",
    "\"\"\"\n",
    "import numpy as np\n",
    "def twoSum(nums, target):\n",
    "    hashmap = dict()\n",
    "    for i in range(len(nums)):\n",
    "        hashmap[nums[i]] = i\n",
    "    for i in range(len(nums)):\n",
    "        complement = target - nums[i]\n",
    "        if complement in hashmap.keys():\n",
    "            return [i, hashmap[complement]]\n",
    "\n",
    "arr = [1, 5,6,7, 9]\n",
    "output = twoSum(arr, 11)\n",
    "print(output)"
   ]
  },
  {
   "cell_type": "code",
   "execution_count": 2,
   "id": "5de86ae0",
   "metadata": {},
   "outputs": [
    {
     "name": "stdout",
     "output_type": "stream",
     "text": [
      "49\n"
     ]
    }
   ],
   "source": [
    "\"\"\"You are given an integer array height of length n.\n",
    "There are n vertical lines drawn such that the two endpoints of the ith line are (i, 0) and (i, height[i]).\n",
    "\n",
    "Find two lines that together with the x-axis form a container, such that the container contains the most water.\n",
    "\n",
    "Return the maximum amount of water a container can store.\n",
    "\n",
    "Notice that you may not slant the container.\n",
    "\n",
    "Input: height = [1,8,6,2,5,4,8,3,7]\n",
    "Output: 49\n",
    "Explanation: The above vertical lines are represented by array [1,8,6,2,5,4,8,3,7]. In this case, the max area of water\n",
    "(blue section) the container can contain is 49.\n",
    "\"\"\"\n",
    "\n",
    "import numpy as np\n",
    "\n",
    "def container_with_most_water(arr):\n",
    "\n",
    "    max_area = 0\n",
    "    left = 0\n",
    "    right = len(arr) - 1\n",
    "    while left < right:\n",
    "        width = right - left\n",
    "        max_area = max(max_area, width*min(arr[right], arr[left]))\n",
    "\n",
    "        if arr[left] <= arr[right]:\n",
    "            left += 1\n",
    "        else:\n",
    "            right -=1\n",
    "\n",
    "    return max_area\n",
    "\n",
    "\n",
    "arr = [1, 8, 6, 2, 5, 4, 8, 3, 7]\n",
    "output = container_with_most_water(arr)\n",
    "print(output)"
   ]
  },
  {
   "cell_type": "code",
   "execution_count": null,
   "id": "48aa43b0",
   "metadata": {},
   "outputs": [],
   "source": []
  },
  {
   "cell_type": "code",
   "execution_count": null,
   "id": "6d619523",
   "metadata": {},
   "outputs": [],
   "source": []
  },
  {
   "cell_type": "code",
   "execution_count": null,
   "id": "d832582d",
   "metadata": {},
   "outputs": [],
   "source": []
  }
 ],
 "metadata": {
  "kernelspec": {
   "display_name": "Python 3 (ipykernel)",
   "language": "python",
   "name": "python3"
  },
  "language_info": {
   "codemirror_mode": {
    "name": "ipython",
    "version": 3
   },
   "file_extension": ".py",
   "mimetype": "text/x-python",
   "name": "python",
   "nbconvert_exporter": "python",
   "pygments_lexer": "ipython3",
   "version": "3.10.0"
  }
 },
 "nbformat": 4,
 "nbformat_minor": 5
}
